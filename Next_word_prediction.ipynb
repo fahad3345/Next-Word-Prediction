{
  "nbformat": 4,
  "nbformat_minor": 0,
  "metadata": {
    "colab": {
      "provenance": [],
      "gpuType": "T4",
      "authorship_tag": "ABX9TyNiGILRlVCeOL29Prj3/nzZ",
      "include_colab_link": true
    },
    "kernelspec": {
      "name": "python3",
      "display_name": "Python 3"
    },
    "language_info": {
      "name": "python"
    },
    "accelerator": "GPU"
  },
  "cells": [
    {
      "cell_type": "markdown",
      "metadata": {
        "id": "view-in-github",
        "colab_type": "text"
      },
      "source": [
        "<a href=\"https://colab.research.google.com/github/fahad3345/Next-Word-Prediction/blob/main/Next_word_prediction.ipynb\" target=\"_parent\"><img src=\"https://colab.research.google.com/assets/colab-badge.svg\" alt=\"Open In Colab\"/></a>"
      ]
    },
    {
      "cell_type": "code",
      "execution_count": 1,
      "metadata": {
        "id": "Ro4mIkH_XUoO"
      },
      "outputs": [],
      "source": [
        "# Step 1: Import libraries\n",
        "import tensorflow as tf\n",
        "from tensorflow.keras.preprocessing.text import Tokenizer\n",
        "from tensorflow.keras.layers import Embedding, LSTM, Dense,GRU, Bidirectional\n",
        "from tensorflow.keras.models import Sequential\n",
        "from tensorflow.keras.utils import to_categorical\n",
        "from tensorflow.keras.optimizers import Adam\n",
        "import pickle\n",
        "import numpy as np\n",
        "import os\n",
        "from sklearn.model_selection import train_test_split\n",
        "from tensorflow.keras.callbacks import ModelCheckpoint\n",
        "from tensorflow.keras.models import load_model"
      ]
    },
    {
      "cell_type": "code",
      "source": [
        "#Step 2: Load your file\n",
        "from google.colab import files\n",
        "uploaded = files.upload()"
      ],
      "metadata": {
        "colab": {
          "base_uri": "https://localhost:8080/",
          "height": 73
        },
        "id": "OsiPKvUMXzg3",
        "outputId": "3300808e-fc39-43c1-9b3a-47937ff2cb81"
      },
      "execution_count": 2,
      "outputs": [
        {
          "output_type": "display_data",
          "data": {
            "text/plain": [
              "<IPython.core.display.HTML object>"
            ],
            "text/html": [
              "\n",
              "     <input type=\"file\" id=\"files-1d339e11-328c-40bf-8cad-04f172d189b6\" name=\"files[]\" multiple disabled\n",
              "        style=\"border:none\" />\n",
              "     <output id=\"result-1d339e11-328c-40bf-8cad-04f172d189b6\">\n",
              "      Upload widget is only available when the cell has been executed in the\n",
              "      current browser session. Please rerun this cell to enable.\n",
              "      </output>\n",
              "      <script>// Copyright 2017 Google LLC\n",
              "//\n",
              "// Licensed under the Apache License, Version 2.0 (the \"License\");\n",
              "// you may not use this file except in compliance with the License.\n",
              "// You may obtain a copy of the License at\n",
              "//\n",
              "//      http://www.apache.org/licenses/LICENSE-2.0\n",
              "//\n",
              "// Unless required by applicable law or agreed to in writing, software\n",
              "// distributed under the License is distributed on an \"AS IS\" BASIS,\n",
              "// WITHOUT WARRANTIES OR CONDITIONS OF ANY KIND, either express or implied.\n",
              "// See the License for the specific language governing permissions and\n",
              "// limitations under the License.\n",
              "\n",
              "/**\n",
              " * @fileoverview Helpers for google.colab Python module.\n",
              " */\n",
              "(function(scope) {\n",
              "function span(text, styleAttributes = {}) {\n",
              "  const element = document.createElement('span');\n",
              "  element.textContent = text;\n",
              "  for (const key of Object.keys(styleAttributes)) {\n",
              "    element.style[key] = styleAttributes[key];\n",
              "  }\n",
              "  return element;\n",
              "}\n",
              "\n",
              "// Max number of bytes which will be uploaded at a time.\n",
              "const MAX_PAYLOAD_SIZE = 100 * 1024;\n",
              "\n",
              "function _uploadFiles(inputId, outputId) {\n",
              "  const steps = uploadFilesStep(inputId, outputId);\n",
              "  const outputElement = document.getElementById(outputId);\n",
              "  // Cache steps on the outputElement to make it available for the next call\n",
              "  // to uploadFilesContinue from Python.\n",
              "  outputElement.steps = steps;\n",
              "\n",
              "  return _uploadFilesContinue(outputId);\n",
              "}\n",
              "\n",
              "// This is roughly an async generator (not supported in the browser yet),\n",
              "// where there are multiple asynchronous steps and the Python side is going\n",
              "// to poll for completion of each step.\n",
              "// This uses a Promise to block the python side on completion of each step,\n",
              "// then passes the result of the previous step as the input to the next step.\n",
              "function _uploadFilesContinue(outputId) {\n",
              "  const outputElement = document.getElementById(outputId);\n",
              "  const steps = outputElement.steps;\n",
              "\n",
              "  const next = steps.next(outputElement.lastPromiseValue);\n",
              "  return Promise.resolve(next.value.promise).then((value) => {\n",
              "    // Cache the last promise value to make it available to the next\n",
              "    // step of the generator.\n",
              "    outputElement.lastPromiseValue = value;\n",
              "    return next.value.response;\n",
              "  });\n",
              "}\n",
              "\n",
              "/**\n",
              " * Generator function which is called between each async step of the upload\n",
              " * process.\n",
              " * @param {string} inputId Element ID of the input file picker element.\n",
              " * @param {string} outputId Element ID of the output display.\n",
              " * @return {!Iterable<!Object>} Iterable of next steps.\n",
              " */\n",
              "function* uploadFilesStep(inputId, outputId) {\n",
              "  const inputElement = document.getElementById(inputId);\n",
              "  inputElement.disabled = false;\n",
              "\n",
              "  const outputElement = document.getElementById(outputId);\n",
              "  outputElement.innerHTML = '';\n",
              "\n",
              "  const pickedPromise = new Promise((resolve) => {\n",
              "    inputElement.addEventListener('change', (e) => {\n",
              "      resolve(e.target.files);\n",
              "    });\n",
              "  });\n",
              "\n",
              "  const cancel = document.createElement('button');\n",
              "  inputElement.parentElement.appendChild(cancel);\n",
              "  cancel.textContent = 'Cancel upload';\n",
              "  const cancelPromise = new Promise((resolve) => {\n",
              "    cancel.onclick = () => {\n",
              "      resolve(null);\n",
              "    };\n",
              "  });\n",
              "\n",
              "  // Wait for the user to pick the files.\n",
              "  const files = yield {\n",
              "    promise: Promise.race([pickedPromise, cancelPromise]),\n",
              "    response: {\n",
              "      action: 'starting',\n",
              "    }\n",
              "  };\n",
              "\n",
              "  cancel.remove();\n",
              "\n",
              "  // Disable the input element since further picks are not allowed.\n",
              "  inputElement.disabled = true;\n",
              "\n",
              "  if (!files) {\n",
              "    return {\n",
              "      response: {\n",
              "        action: 'complete',\n",
              "      }\n",
              "    };\n",
              "  }\n",
              "\n",
              "  for (const file of files) {\n",
              "    const li = document.createElement('li');\n",
              "    li.append(span(file.name, {fontWeight: 'bold'}));\n",
              "    li.append(span(\n",
              "        `(${file.type || 'n/a'}) - ${file.size} bytes, ` +\n",
              "        `last modified: ${\n",
              "            file.lastModifiedDate ? file.lastModifiedDate.toLocaleDateString() :\n",
              "                                    'n/a'} - `));\n",
              "    const percent = span('0% done');\n",
              "    li.appendChild(percent);\n",
              "\n",
              "    outputElement.appendChild(li);\n",
              "\n",
              "    const fileDataPromise = new Promise((resolve) => {\n",
              "      const reader = new FileReader();\n",
              "      reader.onload = (e) => {\n",
              "        resolve(e.target.result);\n",
              "      };\n",
              "      reader.readAsArrayBuffer(file);\n",
              "    });\n",
              "    // Wait for the data to be ready.\n",
              "    let fileData = yield {\n",
              "      promise: fileDataPromise,\n",
              "      response: {\n",
              "        action: 'continue',\n",
              "      }\n",
              "    };\n",
              "\n",
              "    // Use a chunked sending to avoid message size limits. See b/62115660.\n",
              "    let position = 0;\n",
              "    do {\n",
              "      const length = Math.min(fileData.byteLength - position, MAX_PAYLOAD_SIZE);\n",
              "      const chunk = new Uint8Array(fileData, position, length);\n",
              "      position += length;\n",
              "\n",
              "      const base64 = btoa(String.fromCharCode.apply(null, chunk));\n",
              "      yield {\n",
              "        response: {\n",
              "          action: 'append',\n",
              "          file: file.name,\n",
              "          data: base64,\n",
              "        },\n",
              "      };\n",
              "\n",
              "      let percentDone = fileData.byteLength === 0 ?\n",
              "          100 :\n",
              "          Math.round((position / fileData.byteLength) * 100);\n",
              "      percent.textContent = `${percentDone}% done`;\n",
              "\n",
              "    } while (position < fileData.byteLength);\n",
              "  }\n",
              "\n",
              "  // All done.\n",
              "  yield {\n",
              "    response: {\n",
              "      action: 'complete',\n",
              "    }\n",
              "  };\n",
              "}\n",
              "\n",
              "scope.google = scope.google || {};\n",
              "scope.google.colab = scope.google.colab || {};\n",
              "scope.google.colab._files = {\n",
              "  _uploadFiles,\n",
              "  _uploadFilesContinue,\n",
              "};\n",
              "})(self);\n",
              "</script> "
            ]
          },
          "metadata": {}
        },
        {
          "output_type": "stream",
          "name": "stdout",
          "text": [
            "Saving book.txt to book.txt\n"
          ]
        }
      ]
    },
    {
      "cell_type": "markdown",
      "source": [
        "### Step 3: Open and pre-process the data"
      ],
      "metadata": {
        "id": "bd-nNqmQanWt"
      }
    },
    {
      "cell_type": "code",
      "source": [
        "#Step 3: Open and pre-process the data\n",
        "file = open(\"book.txt\", \"r\", encoding = \"utf8\")\n",
        "\n",
        "# store file in list\n",
        "lines = []\n",
        "for i in file:\n",
        "    lines.append(i)\n",
        "\n",
        "# Convert list to string\n",
        "data = \"\"\n",
        "for i in lines:\n",
        "  data = ' '. join(lines)\n",
        "\n",
        "#replace unnecessary stuff with space\n",
        "data = data.replace('\\n', '').replace('\\r', '').replace('\\ufeff', '').replace('“','').replace('”','')  #new line, carriage return, unicode character --> replace by space\n",
        "\n",
        "#remove unnecessary spaces\n",
        "data = data.split()\n",
        "data = ' '.join(data)\n",
        "data[:700]"
      ],
      "metadata": {
        "colab": {
          "base_uri": "https://localhost:8080/",
          "height": 104
        },
        "id": "EGlwtRgzYrqX",
        "outputId": "8f32d3e1-0f41-4844-d0cf-2955829d59b7"
      },
      "execution_count": 3,
      "outputs": [
        {
          "output_type": "execute_result",
          "data": {
            "text/plain": [
              "'The Project Gutenberg eBook of The Answering Voice This ebook is for the use of anyone anywhere in the United States and most other parts of the world at no cost and with almost no restrictions whatsoever. You may copy it, give it away or re-use it under the terms of the Project Gutenberg License included with this ebook or online at www.gutenberg.org. If you are not located in the United States, you will have to check the laws of the country where you are located before using this eBook. Title: The Answering VoiceOne Hundred Love Lyrics by Women Compiler: Sara Teasdale Release date: August 4, 2023 [eBook #71343] Language: English Original publication: Boston: Houghton Mifflin, 1917 Credits:'"
            ],
            "application/vnd.google.colaboratory.intrinsic+json": {
              "type": "string"
            }
          },
          "metadata": {},
          "execution_count": 3
        }
      ]
    },
    {
      "cell_type": "code",
      "source": [
        "len(data)"
      ],
      "metadata": {
        "colab": {
          "base_uri": "https://localhost:8080/"
        },
        "id": "UUDeMyzxZlvP",
        "outputId": "b257365e-644f-4211-8f0a-8160443b09c6"
      },
      "execution_count": 4,
      "outputs": [
        {
          "output_type": "execute_result",
          "data": {
            "text/plain": [
              "93464"
            ]
          },
          "metadata": {},
          "execution_count": 4
        }
      ]
    },
    {
      "cell_type": "markdown",
      "source": [
        "### Step 4: Implement tokenization and make additional adjustments"
      ],
      "metadata": {
        "id": "We3Veh2zaa6-"
      }
    },
    {
      "cell_type": "code",
      "source": [
        "tokenizer = Tokenizer()\n",
        "tokenizer.fit_on_texts([data])\n",
        "\n",
        "# saving the tokenizer for predict function\n",
        "pickle.dump(tokenizer, open('token.pkl', 'wb'))\n",
        "\n",
        "sequence_data = tokenizer.texts_to_sequences([data])[0]\n",
        "sequence_data[:15]"
      ],
      "metadata": {
        "colab": {
          "base_uri": "https://localhost:8080/"
        },
        "id": "DnLBe1eoaGc1",
        "outputId": "7521a458-ba70-4b34-9c3e-ca50a536a96a"
      },
      "execution_count": 5,
      "outputs": [
        {
          "output_type": "execute_result",
          "data": {
            "text/plain": [
              "[1, 23, 54, 186, 5, 1, 351, 258, 29, 186, 16, 11, 1, 147, 5]"
            ]
          },
          "metadata": {},
          "execution_count": 5
        }
      ]
    },
    {
      "cell_type": "code",
      "source": [
        "len(sequence_data)"
      ],
      "metadata": {
        "colab": {
          "base_uri": "https://localhost:8080/"
        },
        "id": "aIBpmv_Rawj0",
        "outputId": "440f374d-b064-4f8a-f4cc-9fe10e3c6d00"
      },
      "execution_count": 6,
      "outputs": [
        {
          "output_type": "execute_result",
          "data": {
            "text/plain": [
              "17348"
            ]
          },
          "metadata": {},
          "execution_count": 6
        }
      ]
    },
    {
      "cell_type": "code",
      "source": [
        "vocab_size = len(tokenizer.word_index) + 1\n",
        "print(vocab_size)"
      ],
      "metadata": {
        "colab": {
          "base_uri": "https://localhost:8080/"
        },
        "id": "DXUdGjvVa07A",
        "outputId": "539a2b5e-724f-4047-8013-a301a579a94d"
      },
      "execution_count": 7,
      "outputs": [
        {
          "output_type": "stream",
          "name": "stdout",
          "text": [
            "3076\n"
          ]
        }
      ]
    },
    {
      "cell_type": "code",
      "source": [
        "sequences = []\n",
        "for i in range(3, len(sequence_data)):\n",
        "    words = sequence_data[i-3:i+1]\n",
        "    sequences.append(words)\n",
        "\n",
        "print(\"The Length of sequences are: \", len(sequences))\n",
        "sequences = np.array(sequences)\n",
        "sequences[:10]"
      ],
      "metadata": {
        "colab": {
          "base_uri": "https://localhost:8080/"
        },
        "id": "cC1Dp8FRe1dS",
        "outputId": "1ba845e1-0007-43e7-9805-8816579db5f3"
      },
      "execution_count": 8,
      "outputs": [
        {
          "output_type": "stream",
          "name": "stdout",
          "text": [
            "The Length of sequences are:  17345\n"
          ]
        },
        {
          "output_type": "execute_result",
          "data": {
            "text/plain": [
              "array([[  1,  23,  54, 186],\n",
              "       [ 23,  54, 186,   5],\n",
              "       [ 54, 186,   5,   1],\n",
              "       [186,   5,   1, 351],\n",
              "       [  5,   1, 351, 258],\n",
              "       [  1, 351, 258,  29],\n",
              "       [351, 258,  29, 186],\n",
              "       [258,  29, 186,  16],\n",
              "       [ 29, 186,  16,  11],\n",
              "       [186,  16,  11,   1]])"
            ]
          },
          "metadata": {},
          "execution_count": 8
        }
      ]
    },
    {
      "cell_type": "code",
      "source": [
        "X = []\n",
        "y = []\n",
        "\n",
        "for i in sequences:\n",
        "    X.append(i[0:3])\n",
        "    y.append(i[3])\n",
        "\n",
        "X = np.array(X)\n",
        "y = np.array(y)\n",
        "print(\"Data: \", X[:10])\n",
        "print(\"Response: \", y[:10])"
      ],
      "metadata": {
        "colab": {
          "base_uri": "https://localhost:8080/"
        },
        "id": "8QXR0jvRe6b0",
        "outputId": "a025fcf2-1764-447e-91a1-576f9159a3c0"
      },
      "execution_count": 9,
      "outputs": [
        {
          "output_type": "stream",
          "name": "stdout",
          "text": [
            "Data:  [[  1  23  54]\n",
            " [ 23  54 186]\n",
            " [ 54 186   5]\n",
            " [186   5   1]\n",
            " [  5   1 351]\n",
            " [  1 351 258]\n",
            " [351 258  29]\n",
            " [258  29 186]\n",
            " [ 29 186  16]\n",
            " [186  16  11]]\n",
            "Response:  [186   5   1 351 258  29 186  16  11   1]\n"
          ]
        }
      ]
    },
    {
      "cell_type": "code",
      "source": [
        "y = to_categorical(y, num_classes=vocab_size)\n",
        "y[:5]"
      ],
      "metadata": {
        "colab": {
          "base_uri": "https://localhost:8080/"
        },
        "id": "L81_3nwFe_5p",
        "outputId": "39b5dbbc-0e96-4663-83b2-cb8a7a108b83"
      },
      "execution_count": 10,
      "outputs": [
        {
          "output_type": "execute_result",
          "data": {
            "text/plain": [
              "array([[0., 0., 0., ..., 0., 0., 0.],\n",
              "       [0., 0., 0., ..., 0., 0., 0.],\n",
              "       [0., 1., 0., ..., 0., 0., 0.],\n",
              "       [0., 0., 0., ..., 0., 0., 0.],\n",
              "       [0., 0., 0., ..., 0., 0., 0.]], dtype=float32)"
            ]
          },
          "metadata": {},
          "execution_count": 10
        }
      ]
    },
    {
      "cell_type": "code",
      "source": [
        "# Split your data into training and testing sets (e.g., 80% train, 20% test)\n",
        "X_train, X_test, y_train, y_test = train_test_split(X, y, test_size=0.15, random_state=30)"
      ],
      "metadata": {
        "id": "EnLRTsPYwEkz"
      },
      "execution_count": 11,
      "outputs": []
    },
    {
      "cell_type": "code",
      "source": [],
      "metadata": {
        "id": "Ep4O8T_JwETo"
      },
      "execution_count": 11,
      "outputs": []
    },
    {
      "cell_type": "markdown",
      "source": [
        "### Step 5: Creating the model"
      ],
      "metadata": {
        "id": "-zAfH2kFfIEC"
      }
    },
    {
      "cell_type": "code",
      "source": [
        "from tensorflow.keras.layers import Dropout\n",
        "\n",
        "model = Sequential()\n",
        "model.add(Embedding(vocab_size, 10, input_length=3))\n",
        "model.add(LSTM(1000, return_sequences=True))\n",
        "model.add(Dropout(0.2))  #extra one\n",
        "model.add(LSTM(1000))\n",
        "model.add(Dropout(0.2))  #extra one\n",
        "model.add(Dense(1000, activation=\"relu\"))\n",
        "model.add(Dense(vocab_size, activation=\"softmax\"))\n",
        "model.summary()"
      ],
      "metadata": {
        "colab": {
          "base_uri": "https://localhost:8080/"
        },
        "id": "MJIpXtNNfS6o",
        "outputId": "c0bace21-5a27-43d4-f798-98cdb0089e61"
      },
      "execution_count": 12,
      "outputs": [
        {
          "output_type": "stream",
          "name": "stdout",
          "text": [
            "Model: \"sequential\"\n",
            "_________________________________________________________________\n",
            " Layer (type)                Output Shape              Param #   \n",
            "=================================================================\n",
            " embedding (Embedding)       (None, 3, 10)             30760     \n",
            "                                                                 \n",
            " lstm (LSTM)                 (None, 3, 1000)           4044000   \n",
            "                                                                 \n",
            " dropout (Dropout)           (None, 3, 1000)           0         \n",
            "                                                                 \n",
            " lstm_1 (LSTM)               (None, 1000)              8004000   \n",
            "                                                                 \n",
            " dropout_1 (Dropout)         (None, 1000)              0         \n",
            "                                                                 \n",
            " dense (Dense)               (None, 1000)              1001000   \n",
            "                                                                 \n",
            " dense_1 (Dense)             (None, 3076)              3079076   \n",
            "                                                                 \n",
            "=================================================================\n",
            "Total params: 16158836 (61.64 MB)\n",
            "Trainable params: 16158836 (61.64 MB)\n",
            "Non-trainable params: 0 (0.00 Byte)\n",
            "_________________________________________________________________\n"
          ]
        }
      ]
    },
    {
      "cell_type": "code",
      "source": [
        "#GRU model\n",
        "gru_model = Sequential()\n",
        "gru_model.add(Embedding(vocab_size, 10, input_length=3))\n",
        "gru_model.add(GRU(1000, return_sequences=True))   # Add a GRU layer with 1000 units\n",
        "gru_model.add(Dropout(0.2))\n",
        "gru_model.add(GRU(1000))    # Add another GRU layer with 1000 units\n",
        "gru_model.add(Dropout(0.2))\n",
        "gru_model.add(Dense(1000, activation=\"relu\"))    # Add a Dense layer with 1000 units and ReLU activation\n",
        "gru_model.add(Dense(vocab_size, activation=\"softmax\"))   # Add the output Dense layer with vocab_size units and softmax activation\n",
        "gru_model.summary()"
      ],
      "metadata": {
        "colab": {
          "base_uri": "https://localhost:8080/"
        },
        "id": "j48UpKJW0Hjv",
        "outputId": "32a80acd-17d7-425e-d5ab-c4f462a4d0df"
      },
      "execution_count": 13,
      "outputs": [
        {
          "output_type": "stream",
          "name": "stdout",
          "text": [
            "Model: \"sequential_1\"\n",
            "_________________________________________________________________\n",
            " Layer (type)                Output Shape              Param #   \n",
            "=================================================================\n",
            " embedding_1 (Embedding)     (None, 3, 10)             30760     \n",
            "                                                                 \n",
            " gru (GRU)                   (None, 3, 1000)           3036000   \n",
            "                                                                 \n",
            " dropout_2 (Dropout)         (None, 3, 1000)           0         \n",
            "                                                                 \n",
            " gru_1 (GRU)                 (None, 1000)              6006000   \n",
            "                                                                 \n",
            " dropout_3 (Dropout)         (None, 1000)              0         \n",
            "                                                                 \n",
            " dense_2 (Dense)             (None, 1000)              1001000   \n",
            "                                                                 \n",
            " dense_3 (Dense)             (None, 3076)              3079076   \n",
            "                                                                 \n",
            "=================================================================\n",
            "Total params: 13152836 (50.17 MB)\n",
            "Trainable params: 13152836 (50.17 MB)\n",
            "Non-trainable params: 0 (0.00 Byte)\n",
            "_________________________________________________________________\n"
          ]
        }
      ]
    },
    {
      "cell_type": "code",
      "source": [
        "#Bidirectional LSTM\n",
        "\n",
        "Bi_model = Sequential()  # Create a Sequential model\n",
        "Bi_model.add(Embedding(vocab_size, 10, input_length=3))   # Add an Embedding layer\n",
        "Bi_model.add(Bidirectional(LSTM(1000, return_sequences=True)))   # Add a Bidirectional LSTM layer with 1000 units\n",
        "Bi_model.add(Dropout(0.2))\n",
        "Bi_model.add(Bidirectional(LSTM(1000)))     # Add another Bidirectional LSTM layer with 1000 units\n",
        "Bi_model.add(Dropout(0.2))\n",
        "Bi_model.add(Dense(1000, activation=\"relu\"))    # Add a Dense layer with 1000 units and ReLU activation\n",
        "Bi_model.add(Dense(vocab_size, activation=\"softmax\"))    # Add the output Dense layer with vocab_size units and softmax activation\n",
        "Bi_model.summary()"
      ],
      "metadata": {
        "colab": {
          "base_uri": "https://localhost:8080/"
        },
        "id": "jUfoQDu59X7P",
        "outputId": "a8b7b0d8-ed29-447d-f405-e904b4495b1a"
      },
      "execution_count": 14,
      "outputs": [
        {
          "output_type": "stream",
          "name": "stdout",
          "text": [
            "Model: \"sequential_2\"\n",
            "_________________________________________________________________\n",
            " Layer (type)                Output Shape              Param #   \n",
            "=================================================================\n",
            " embedding_2 (Embedding)     (None, 3, 10)             30760     \n",
            "                                                                 \n",
            " bidirectional (Bidirection  (None, 3, 2000)           8088000   \n",
            " al)                                                             \n",
            "                                                                 \n",
            " dropout_4 (Dropout)         (None, 3, 2000)           0         \n",
            "                                                                 \n",
            " bidirectional_1 (Bidirecti  (None, 2000)              24008000  \n",
            " onal)                                                           \n",
            "                                                                 \n",
            " dropout_5 (Dropout)         (None, 2000)              0         \n",
            "                                                                 \n",
            " dense_4 (Dense)             (None, 1000)              2001000   \n",
            "                                                                 \n",
            " dense_5 (Dense)             (None, 3076)              3079076   \n",
            "                                                                 \n",
            "=================================================================\n",
            "Total params: 37206836 (141.93 MB)\n",
            "Trainable params: 37206836 (141.93 MB)\n",
            "Non-trainable params: 0 (0.00 Byte)\n",
            "_________________________________________________________________\n"
          ]
        }
      ]
    },
    {
      "cell_type": "markdown",
      "source": [
        "### Step 6: Plot the model"
      ],
      "metadata": {
        "id": "wKAn3jsIfaa4"
      }
    },
    {
      "cell_type": "code",
      "source": [
        "from tensorflow.keras.utils import plot_model\n",
        "plot_model(model, to_file='plot.png', show_layer_names=True)"
      ],
      "metadata": {
        "colab": {
          "base_uri": "https://localhost:8080/",
          "height": 758
        },
        "id": "2fLT5hIpj6Am",
        "outputId": "b56815e9-8287-4bcb-f9bb-fa472dca4c72"
      },
      "execution_count": 15,
      "outputs": [
        {
          "output_type": "execute_result",
          "data": {
            "image/png": "[encoded data removed]",
            "text/plain": [
              "<IPython.core.display.Image object>"
            ]
          },
          "metadata": {},
          "execution_count": 15
        }
      ]
    },
    {
      "cell_type": "code",
      "source": [
        "#GRU model plot\n",
        "plot_model(gru_model, to_file='plot1.png', show_layer_names=True)"
      ],
      "metadata": {
        "colab": {
          "base_uri": "https://localhost:8080/",
          "height": 758
        },
        "id": "PWZch-jwzWQ3",
        "outputId": "2fae3df6-79d9-4490-c07f-4bda13f235d6"
      },
      "execution_count": 16,
      "outputs": [
        {
          "output_type": "execute_result",
          "data": {
            "image/png": "[encoded data removed]",
            "text/plain": [
              "<IPython.core.display.Image object>"
            ]
          },
          "metadata": {},
          "execution_count": 16
        }
      ]
    },
    {
      "cell_type": "code",
      "source": [
        "#Bideirectional LSTM\n",
        "plot_model(Bi_model, to_file='plot2.png', show_layer_names=True)"
      ],
      "metadata": {
        "colab": {
          "base_uri": "https://localhost:8080/",
          "height": 758
        },
        "id": "MhGQkFTq90gS",
        "outputId": "5667ecaf-0bc5-4eea-de8b-523bf4c74ca3"
      },
      "execution_count": 17,
      "outputs": [
        {
          "output_type": "execute_result",
          "data": {
            "image/png": "[encoded data removed]",
            "text/plain": [
              "<IPython.core.display.Image object>"
            ]
          },
          "metadata": {},
          "execution_count": 17
        }
      ]
    },
    {
      "cell_type": "markdown",
      "source": [
        "### Step 7: Train the model"
      ],
      "metadata": {
        "id": "3HwbeuNnfiZx"
      }
    },
    {
      "cell_type": "code",
      "source": [
        "from tensorflow.keras.callbacks import ModelCheckpoint\n",
        "\n",
        "checkpoint = ModelCheckpoint(\"next_words.h5\", monitor='loss', verbose=1, save_best_only=True)\n",
        "model.compile(loss=\"categorical_crossentropy\", optimizer=Adam(learning_rate=0.001), metrics=['accuracy'])\n",
        "model.fit(X_train, y_train, epochs=30, batch_size=50, callbacks=[checkpoint])"
      ],
      "metadata": {
        "colab": {
          "base_uri": "https://localhost:8080/"
        },
        "id": "Cas4L_LnfeJG",
        "outputId": "b7250193-d0df-4e52-91b8-3194c1bdb5e1"
      },
      "execution_count": 18,
      "outputs": [
        {
          "output_type": "stream",
          "name": "stdout",
          "text": [
            "Epoch 1/30\n",
            "293/295 [============================>.] - ETA: 0s - loss: 6.8607 - accuracy: 0.0491\n",
            "Epoch 1: loss improved from inf to 6.86165, saving model to next_words.h5\n"
          ]
        },
        {
          "output_type": "stream",
          "name": "stderr",
          "text": [
            "/usr/local/lib/python3.10/dist-packages/keras/src/engine/training.py:3000: UserWarning: You are saving your model as an HDF5 file via `model.save()`. This file format is considered legacy. We recommend using instead the native Keras format, e.g. `model.save('my_model.keras')`.\n",
            "  saving_api.save_model(\n"
          ]
        },
        {
          "output_type": "stream",
          "name": "stdout",
          "text": [
            "\b\b\b\b\b\b\b\b\b\b\b\b\b\b\b\b\b\b\b\b\b\b\b\b\b\b\b\b\b\b\b\b\b\b\b\b\b\b\b\b\b\b\b\b\b\b\b\b\b\b\b\b\b\b\b\b\b\b\b\b\b\b\b\b\b\b\b\b\b\b\b\b\b\b\b\b\b\b\b\b\b\b\b\b\r295/295 [==============================] - 20s 33ms/step - loss: 6.8616 - accuracy: 0.0491\n",
            "Epoch 2/30\n",
            "294/295 [============================>.] - ETA: 0s - loss: 6.4375 - accuracy: 0.0559\n",
            "Epoch 2: loss improved from 6.86165 to 6.43697, saving model to next_words.h5\n",
            "295/295 [==============================] - 5s 15ms/step - loss: 6.4370 - accuracy: 0.0558\n",
            "Epoch 3/30\n",
            "292/295 [============================>.] - ETA: 0s - loss: 6.1645 - accuracy: 0.0636\n",
            "Epoch 3: loss improved from 6.43697 to 6.16022, saving model to next_words.h5\n",
            "295/295 [==============================] - 5s 16ms/step - loss: 6.1602 - accuracy: 0.0633\n",
            "Epoch 4/30\n",
            "292/295 [============================>.] - ETA: 0s - loss: 5.8892 - accuracy: 0.0697\n",
            "Epoch 4: loss improved from 6.16022 to 5.88616, saving model to next_words.h5\n",
            "295/295 [==============================] - 5s 17ms/step - loss: 5.8862 - accuracy: 0.0699\n",
            "Epoch 5/30\n",
            "292/295 [============================>.] - ETA: 0s - loss: 5.5742 - accuracy: 0.0761\n",
            "Epoch 5: loss improved from 5.88616 to 5.57082, saving model to next_words.h5\n",
            "295/295 [==============================] - 5s 15ms/step - loss: 5.5708 - accuracy: 0.0764\n",
            "Epoch 6/30\n",
            "293/295 [============================>.] - ETA: 0s - loss: 5.2705 - accuracy: 0.0911\n",
            "Epoch 6: loss improved from 5.57082 to 5.26974, saving model to next_words.h5\n",
            "295/295 [==============================] - 5s 16ms/step - loss: 5.2697 - accuracy: 0.0913\n",
            "Epoch 7/30\n",
            "292/295 [============================>.] - ETA: 0s - loss: 4.9859 - accuracy: 0.1136\n",
            "Epoch 7: loss improved from 5.26974 to 4.98806, saving model to next_words.h5\n",
            "295/295 [==============================] - 4s 15ms/step - loss: 4.9881 - accuracy: 0.1137\n",
            "Epoch 8/30\n",
            "293/295 [============================>.] - ETA: 0s - loss: 4.7085 - accuracy: 0.1311\n",
            "Epoch 8: loss improved from 4.98806 to 4.70965, saving model to next_words.h5\n",
            "295/295 [==============================] - 4s 15ms/step - loss: 4.7097 - accuracy: 0.1310\n",
            "Epoch 9/30\n",
            "295/295 [==============================] - ETA: 0s - loss: 4.4113 - accuracy: 0.1524\n",
            "Epoch 9: loss improved from 4.70965 to 4.41133, saving model to next_words.h5\n",
            "295/295 [==============================] - 5s 16ms/step - loss: 4.4113 - accuracy: 0.1524\n",
            "Epoch 10/30\n",
            "292/295 [============================>.] - ETA: 0s - loss: 4.0953 - accuracy: 0.1803\n",
            "Epoch 10: loss improved from 4.41133 to 4.09713, saving model to next_words.h5\n",
            "295/295 [==============================] - 5s 18ms/step - loss: 4.0971 - accuracy: 0.1802\n",
            "Epoch 11/30\n",
            "293/295 [============================>.] - ETA: 0s - loss: 3.7533 - accuracy: 0.2093\n",
            "Epoch 11: loss improved from 4.09713 to 3.75234, saving model to next_words.h5\n",
            "295/295 [==============================] - 5s 15ms/step - loss: 3.7523 - accuracy: 0.2090\n",
            "Epoch 12/30\n",
            "293/295 [============================>.] - ETA: 0s - loss: 3.3811 - accuracy: 0.2529\n",
            "Epoch 12: loss improved from 3.75234 to 3.38298, saving model to next_words.h5\n",
            "295/295 [==============================] - 5s 15ms/step - loss: 3.3830 - accuracy: 0.2526\n",
            "Epoch 13/30\n",
            "293/295 [============================>.] - ETA: 0s - loss: 3.0393 - accuracy: 0.3014\n",
            "Epoch 13: loss improved from 3.38298 to 3.03937, saving model to next_words.h5\n",
            "295/295 [==============================] - 4s 15ms/step - loss: 3.0394 - accuracy: 0.3012\n",
            "Epoch 14/30\n",
            "292/295 [============================>.] - ETA: 0s - loss: 2.6841 - accuracy: 0.3542\n",
            "Epoch 14: loss improved from 3.03937 to 2.68620, saving model to next_words.h5\n",
            "295/295 [==============================] - 5s 18ms/step - loss: 2.6862 - accuracy: 0.3539\n",
            "Epoch 15/30\n",
            "293/295 [============================>.] - ETA: 0s - loss: 2.3648 - accuracy: 0.4199\n",
            "Epoch 15: loss improved from 2.68620 to 2.36580, saving model to next_words.h5\n",
            "295/295 [==============================] - 4s 15ms/step - loss: 2.3658 - accuracy: 0.4195\n",
            "Epoch 16/30\n",
            "292/295 [============================>.] - ETA: 0s - loss: 2.0880 - accuracy: 0.4747\n",
            "Epoch 16: loss improved from 2.36580 to 2.08924, saving model to next_words.h5\n",
            "295/295 [==============================] - 4s 15ms/step - loss: 2.0892 - accuracy: 0.4743\n",
            "Epoch 17/30\n",
            "293/295 [============================>.] - ETA: 0s - loss: 1.8642 - accuracy: 0.5136\n",
            "Epoch 17: loss improved from 2.08924 to 1.86649, saving model to next_words.h5\n",
            "295/295 [==============================] - 5s 18ms/step - loss: 1.8665 - accuracy: 0.5133\n",
            "Epoch 18/30\n",
            "295/295 [==============================] - ETA: 0s - loss: 1.6328 - accuracy: 0.5696\n",
            "Epoch 18: loss improved from 1.86649 to 1.63282, saving model to next_words.h5\n",
            "295/295 [==============================] - 5s 16ms/step - loss: 1.6328 - accuracy: 0.5696\n",
            "Epoch 19/30\n",
            "294/295 [============================>.] - ETA: 0s - loss: 1.4533 - accuracy: 0.6095\n",
            "Epoch 19: loss improved from 1.63282 to 1.45381, saving model to next_words.h5\n",
            "295/295 [==============================] - 5s 16ms/step - loss: 1.4538 - accuracy: 0.6093\n",
            "Epoch 20/30\n",
            "294/295 [============================>.] - ETA: 0s - loss: 1.2897 - accuracy: 0.6469\n",
            "Epoch 20: loss improved from 1.45381 to 1.29096, saving model to next_words.h5\n",
            "295/295 [==============================] - 4s 15ms/step - loss: 1.2910 - accuracy: 0.6466\n",
            "Epoch 21/30\n",
            "293/295 [============================>.] - ETA: 0s - loss: 1.1513 - accuracy: 0.6817\n",
            "Epoch 21: loss improved from 1.29096 to 1.15251, saving model to next_words.h5\n",
            "295/295 [==============================] - 5s 18ms/step - loss: 1.1525 - accuracy: 0.6816\n",
            "Epoch 22/30\n",
            "295/295 [==============================] - ETA: 0s - loss: 1.0170 - accuracy: 0.7151\n",
            "Epoch 22: loss improved from 1.15251 to 1.01701, saving model to next_words.h5\n",
            "295/295 [==============================] - 5s 16ms/step - loss: 1.0170 - accuracy: 0.7151\n",
            "Epoch 23/30\n",
            "292/295 [============================>.] - ETA: 0s - loss: 0.9427 - accuracy: 0.7305\n",
            "Epoch 23: loss improved from 1.01701 to 0.94410, saving model to next_words.h5\n",
            "295/295 [==============================] - 4s 15ms/step - loss: 0.9441 - accuracy: 0.7306\n",
            "Epoch 24/30\n",
            "293/295 [============================>.] - ETA: 0s - loss: 0.8331 - accuracy: 0.7617\n",
            "Epoch 24: loss improved from 0.94410 to 0.83564, saving model to next_words.h5\n",
            "295/295 [==============================] - 4s 15ms/step - loss: 0.8356 - accuracy: 0.7611\n",
            "Epoch 25/30\n",
            "294/295 [============================>.] - ETA: 0s - loss: 0.7625 - accuracy: 0.7791\n",
            "Epoch 25: loss improved from 0.83564 to 0.76253, saving model to next_words.h5\n",
            "295/295 [==============================] - 5s 16ms/step - loss: 0.7625 - accuracy: 0.7789\n",
            "Epoch 26/30\n",
            "293/295 [============================>.] - ETA: 0s - loss: 0.6838 - accuracy: 0.8051\n",
            "Epoch 26: loss improved from 0.76253 to 0.68535, saving model to next_words.h5\n",
            "295/295 [==============================] - 4s 15ms/step - loss: 0.6853 - accuracy: 0.8044\n",
            "Epoch 27/30\n",
            "292/295 [============================>.] - ETA: 0s - loss: 0.6337 - accuracy: 0.8157\n",
            "Epoch 27: loss improved from 0.68535 to 0.63434, saving model to next_words.h5\n",
            "295/295 [==============================] - 5s 15ms/step - loss: 0.6343 - accuracy: 0.8155\n",
            "Epoch 28/30\n",
            "293/295 [============================>.] - ETA: 0s - loss: 0.5977 - accuracy: 0.8231\n",
            "Epoch 28: loss improved from 0.63434 to 0.59884, saving model to next_words.h5\n",
            "295/295 [==============================] - 5s 16ms/step - loss: 0.5988 - accuracy: 0.8226\n",
            "Epoch 29/30\n",
            "292/295 [============================>.] - ETA: 0s - loss: 0.5494 - accuracy: 0.8407\n",
            "Epoch 29: loss improved from 0.59884 to 0.54951, saving model to next_words.h5\n",
            "295/295 [==============================] - 4s 15ms/step - loss: 0.5495 - accuracy: 0.8408\n",
            "Epoch 30/30\n",
            "294/295 [============================>.] - ETA: 0s - loss: 0.5161 - accuracy: 0.8500\n",
            "Epoch 30: loss improved from 0.54951 to 0.51577, saving model to next_words.h5\n",
            "295/295 [==============================] - 5s 16ms/step - loss: 0.5158 - accuracy: 0.8502\n"
          ]
        },
        {
          "output_type": "execute_result",
          "data": {
            "text/plain": [
              "<keras.src.callbacks.History at 0x792dc0b7d510>"
            ]
          },
          "metadata": {},
          "execution_count": 18
        }
      ]
    },
    {
      "cell_type": "code",
      "source": [
        "#GRU model\n",
        "\n",
        "# Define a ModelCheckpoint callback\n",
        "checkpoint = ModelCheckpoint(\"next_words_gru.h5\", monitor='loss', verbose=1, save_best_only=True)\n",
        "gru_model.compile(loss=\"categorical_crossentropy\", optimizer=Adam(learning_rate=0.001),metrics=['accuracy'])   # Compile the GRU model\n",
        "gru_model.fit(X_train, y_train, epochs=40, batch_size=50, callbacks=[checkpoint])     # Train the GRU model"
      ],
      "metadata": {
        "colab": {
          "base_uri": "https://localhost:8080/"
        },
        "id": "-Lve4vNEkPIA",
        "outputId": "68c62039-27e0-40fc-a7f8-c4b4a05c8563"
      },
      "execution_count": 19,
      "outputs": [
        {
          "output_type": "stream",
          "name": "stdout",
          "text": [
            "Epoch 1/40\n",
            "291/295 [============================>.] - ETA: 0s - loss: 6.8226 - accuracy: 0.0504\n",
            "Epoch 1: loss improved from inf to 6.81988, saving model to next_words_gru.h5\n",
            "295/295 [==============================] - 12s 26ms/step - loss: 6.8199 - accuracy: 0.0504\n",
            "Epoch 2/40\n",
            "293/295 [============================>.] - ETA: 0s - loss: 6.3415 - accuracy: 0.0617\n",
            "Epoch 2: loss improved from 6.81988 to 6.34091, saving model to next_words_gru.h5\n",
            "295/295 [==============================] - 4s 13ms/step - loss: 6.3409 - accuracy: 0.0618\n",
            "Epoch 3/40\n",
            "295/295 [==============================] - ETA: 0s - loss: 6.0159 - accuracy: 0.0691\n",
            "Epoch 3: loss improved from 6.34091 to 6.01587, saving model to next_words_gru.h5\n",
            "295/295 [==============================] - 4s 15ms/step - loss: 6.0159 - accuracy: 0.0691\n",
            "Epoch 4/40\n",
            "295/295 [==============================] - ETA: 0s - loss: 5.6562 - accuracy: 0.0820\n",
            "Epoch 4: loss improved from 6.01587 to 5.65620, saving model to next_words_gru.h5\n",
            "295/295 [==============================] - 4s 13ms/step - loss: 5.6562 - accuracy: 0.0820\n",
            "Epoch 5/40\n",
            "291/295 [============================>.] - ETA: 0s - loss: 5.2963 - accuracy: 0.1010\n",
            "Epoch 5: loss improved from 5.65620 to 5.29846, saving model to next_words_gru.h5\n",
            "295/295 [==============================] - 4s 13ms/step - loss: 5.2985 - accuracy: 0.1009\n",
            "Epoch 6/40\n",
            "292/295 [============================>.] - ETA: 0s - loss: 4.9308 - accuracy: 0.1225\n",
            "Epoch 6: loss improved from 5.29846 to 4.93351, saving model to next_words_gru.h5\n",
            "295/295 [==============================] - 4s 14ms/step - loss: 4.9335 - accuracy: 0.1222\n",
            "Epoch 7/40\n",
            "291/295 [============================>.] - ETA: 0s - loss: 4.5545 - accuracy: 0.1473\n",
            "Epoch 7: loss improved from 4.93351 to 4.55786, saving model to next_words_gru.h5\n",
            "295/295 [==============================] - 4s 13ms/step - loss: 4.5579 - accuracy: 0.1469\n",
            "Epoch 8/40\n",
            "292/295 [============================>.] - ETA: 0s - loss: 4.1415 - accuracy: 0.1751\n",
            "Epoch 8: loss improved from 4.55786 to 4.14275, saving model to next_words_gru.h5\n",
            "295/295 [==============================] - 4s 12ms/step - loss: 4.1428 - accuracy: 0.1745\n",
            "Epoch 9/40\n",
            "292/295 [============================>.] - ETA: 0s - loss: 3.7335 - accuracy: 0.2114\n",
            "Epoch 9: loss improved from 4.14275 to 3.73434, saving model to next_words_gru.h5\n",
            "295/295 [==============================] - 4s 13ms/step - loss: 3.7343 - accuracy: 0.2112\n",
            "Epoch 10/40\n",
            "292/295 [============================>.] - ETA: 0s - loss: 3.3177 - accuracy: 0.2567\n",
            "Epoch 10: loss improved from 3.73434 to 3.32080, saving model to next_words_gru.h5\n",
            "295/295 [==============================] - 4s 13ms/step - loss: 3.3208 - accuracy: 0.2561\n",
            "Epoch 11/40\n",
            "294/295 [============================>.] - ETA: 0s - loss: 2.9365 - accuracy: 0.3144\n",
            "Epoch 11: loss improved from 3.32080 to 2.93647, saving model to next_words_gru.h5\n",
            "295/295 [==============================] - 4s 13ms/step - loss: 2.9365 - accuracy: 0.3143\n",
            "Epoch 12/40\n",
            "292/295 [============================>.] - ETA: 0s - loss: 2.5659 - accuracy: 0.3803\n",
            "Epoch 12: loss improved from 2.93647 to 2.56917, saving model to next_words_gru.h5\n",
            "295/295 [==============================] - 4s 13ms/step - loss: 2.5692 - accuracy: 0.3799\n",
            "Epoch 13/40\n",
            "295/295 [==============================] - ETA: 0s - loss: 2.2182 - accuracy: 0.4468\n",
            "Epoch 13: loss improved from 2.56917 to 2.21819, saving model to next_words_gru.h5\n",
            "295/295 [==============================] - 4s 14ms/step - loss: 2.2182 - accuracy: 0.4468\n",
            "Epoch 14/40\n",
            "295/295 [==============================] - ETA: 0s - loss: 1.9247 - accuracy: 0.5066\n",
            "Epoch 14: loss improved from 2.21819 to 1.92471, saving model to next_words_gru.h5\n",
            "295/295 [==============================] - 4s 13ms/step - loss: 1.9247 - accuracy: 0.5066\n",
            "Epoch 15/40\n",
            "292/295 [============================>.] - ETA: 0s - loss: 1.6474 - accuracy: 0.5736\n",
            "Epoch 15: loss improved from 1.92471 to 1.65098, saving model to next_words_gru.h5\n",
            "295/295 [==============================] - 4s 13ms/step - loss: 1.6510 - accuracy: 0.5729\n",
            "Epoch 16/40\n",
            "295/295 [==============================] - ETA: 0s - loss: 1.4173 - accuracy: 0.6214\n",
            "Epoch 16: loss improved from 1.65098 to 1.41727, saving model to next_words_gru.h5\n",
            "295/295 [==============================] - 4s 13ms/step - loss: 1.4173 - accuracy: 0.6214\n",
            "Epoch 17/40\n",
            "291/295 [============================>.] - ETA: 0s - loss: 1.2212 - accuracy: 0.6694\n",
            "Epoch 17: loss improved from 1.41727 to 1.22408, saving model to next_words_gru.h5\n",
            "295/295 [==============================] - 4s 13ms/step - loss: 1.2241 - accuracy: 0.6685\n",
            "Epoch 18/40\n",
            "292/295 [============================>.] - ETA: 0s - loss: 1.0461 - accuracy: 0.7178\n",
            "Epoch 18: loss improved from 1.22408 to 1.05196, saving model to next_words_gru.h5\n",
            "295/295 [==============================] - 4s 13ms/step - loss: 1.0520 - accuracy: 0.7166\n",
            "Epoch 19/40\n",
            "293/295 [============================>.] - ETA: 0s - loss: 0.9212 - accuracy: 0.7468\n",
            "Epoch 19: loss improved from 1.05196 to 0.92227, saving model to next_words_gru.h5\n",
            "295/295 [==============================] - 4s 14ms/step - loss: 0.9223 - accuracy: 0.7467\n",
            "Epoch 20/40\n",
            "291/295 [============================>.] - ETA: 0s - loss: 0.7998 - accuracy: 0.7799\n",
            "Epoch 20: loss improved from 0.92227 to 0.80098, saving model to next_words_gru.h5\n",
            "295/295 [==============================] - 4s 13ms/step - loss: 0.8010 - accuracy: 0.7798\n",
            "Epoch 21/40\n",
            "294/295 [============================>.] - ETA: 0s - loss: 0.7192 - accuracy: 0.8048\n",
            "Epoch 21: loss improved from 0.80098 to 0.72144, saving model to next_words_gru.h5\n",
            "295/295 [==============================] - 4s 13ms/step - loss: 0.7214 - accuracy: 0.8042\n",
            "Epoch 22/40\n",
            "291/295 [============================>.] - ETA: 0s - loss: 0.6453 - accuracy: 0.8220\n",
            "Epoch 22: loss improved from 0.72144 to 0.64529, saving model to next_words_gru.h5\n",
            "295/295 [==============================] - 4s 14ms/step - loss: 0.6453 - accuracy: 0.8219\n",
            "Epoch 23/40\n",
            "294/295 [============================>.] - ETA: 0s - loss: 0.5902 - accuracy: 0.8352\n",
            "Epoch 23: loss improved from 0.64529 to 0.59002, saving model to next_words_gru.h5\n",
            "295/295 [==============================] - 4s 13ms/step - loss: 0.5900 - accuracy: 0.8352\n",
            "Epoch 24/40\n",
            "294/295 [============================>.] - ETA: 0s - loss: 0.5353 - accuracy: 0.8529\n",
            "Epoch 24: loss improved from 0.59002 to 0.53524, saving model to next_words_gru.h5\n",
            "295/295 [==============================] - 4s 13ms/step - loss: 0.5352 - accuracy: 0.8530\n",
            "Epoch 25/40\n",
            "295/295 [==============================] - ETA: 0s - loss: 0.4924 - accuracy: 0.8645\n",
            "Epoch 25: loss improved from 0.53524 to 0.49238, saving model to next_words_gru.h5\n",
            "295/295 [==============================] - 4s 14ms/step - loss: 0.4924 - accuracy: 0.8645\n",
            "Epoch 26/40\n",
            "295/295 [==============================] - ETA: 0s - loss: 0.4702 - accuracy: 0.8711\n",
            "Epoch 26: loss improved from 0.49238 to 0.47016, saving model to next_words_gru.h5\n",
            "295/295 [==============================] - 4s 13ms/step - loss: 0.4702 - accuracy: 0.8711\n",
            "Epoch 27/40\n",
            "295/295 [==============================] - ETA: 0s - loss: 0.4419 - accuracy: 0.8763\n",
            "Epoch 27: loss improved from 0.47016 to 0.44193, saving model to next_words_gru.h5\n",
            "295/295 [==============================] - 4s 13ms/step - loss: 0.4419 - accuracy: 0.8763\n",
            "Epoch 28/40\n",
            "294/295 [============================>.] - ETA: 0s - loss: 0.4199 - accuracy: 0.8814\n",
            "Epoch 28: loss improved from 0.44193 to 0.42113, saving model to next_words_gru.h5\n",
            "295/295 [==============================] - 4s 13ms/step - loss: 0.4211 - accuracy: 0.8810\n",
            "Epoch 29/40\n",
            "293/295 [============================>.] - ETA: 0s - loss: 0.4204 - accuracy: 0.8797\n",
            "Epoch 29: loss improved from 0.42113 to 0.42096, saving model to next_words_gru.h5\n",
            "295/295 [==============================] - 4s 13ms/step - loss: 0.4210 - accuracy: 0.8795\n",
            "Epoch 30/40\n",
            "293/295 [============================>.] - ETA: 0s - loss: 0.3936 - accuracy: 0.8898\n",
            "Epoch 30: loss improved from 0.42096 to 0.39401, saving model to next_words_gru.h5\n",
            "295/295 [==============================] - 4s 13ms/step - loss: 0.3940 - accuracy: 0.8897\n",
            "Epoch 31/40\n",
            "295/295 [==============================] - ETA: 0s - loss: 0.3756 - accuracy: 0.8930\n",
            "Epoch 31: loss improved from 0.39401 to 0.37558, saving model to next_words_gru.h5\n",
            "295/295 [==============================] - 4s 13ms/step - loss: 0.3756 - accuracy: 0.8930\n",
            "Epoch 32/40\n",
            "292/295 [============================>.] - ETA: 0s - loss: 0.3612 - accuracy: 0.8944\n",
            "Epoch 32: loss improved from 0.37558 to 0.36273, saving model to next_words_gru.h5\n",
            "295/295 [==============================] - 4s 13ms/step - loss: 0.3627 - accuracy: 0.8940\n",
            "Epoch 33/40\n",
            "294/295 [============================>.] - ETA: 0s - loss: 0.3634 - accuracy: 0.8922\n",
            "Epoch 33: loss did not improve from 0.36273\n",
            "295/295 [==============================] - 3s 12ms/step - loss: 0.3632 - accuracy: 0.8921\n",
            "Epoch 34/40\n",
            "293/295 [============================>.] - ETA: 0s - loss: 0.3523 - accuracy: 0.8956\n",
            "Epoch 34: loss improved from 0.36273 to 0.35397, saving model to next_words_gru.h5\n",
            "295/295 [==============================] - 4s 13ms/step - loss: 0.3540 - accuracy: 0.8952\n",
            "Epoch 35/40\n",
            "294/295 [============================>.] - ETA: 0s - loss: 0.3615 - accuracy: 0.8930\n",
            "Epoch 35: loss did not improve from 0.35397\n",
            "295/295 [==============================] - 4s 12ms/step - loss: 0.3612 - accuracy: 0.8930\n",
            "Epoch 36/40\n",
            "291/295 [============================>.] - ETA: 0s - loss: 0.3439 - accuracy: 0.8966\n",
            "Epoch 36: loss improved from 0.35397 to 0.34364, saving model to next_words_gru.h5\n",
            "295/295 [==============================] - 4s 13ms/step - loss: 0.3436 - accuracy: 0.8964\n",
            "Epoch 37/40\n",
            "295/295 [==============================] - ETA: 0s - loss: 0.3443 - accuracy: 0.8930\n",
            "Epoch 37: loss did not improve from 0.34364\n",
            "295/295 [==============================] - 3s 12ms/step - loss: 0.3443 - accuracy: 0.8930\n",
            "Epoch 38/40\n",
            "292/295 [============================>.] - ETA: 0s - loss: 0.3363 - accuracy: 0.8970\n",
            "Epoch 38: loss improved from 0.34364 to 0.33734, saving model to next_words_gru.h5\n",
            "295/295 [==============================] - 4s 14ms/step - loss: 0.3373 - accuracy: 0.8966\n",
            "Epoch 39/40\n",
            "291/295 [============================>.] - ETA: 0s - loss: 0.3278 - accuracy: 0.8977\n",
            "Epoch 39: loss improved from 0.33734 to 0.32815, saving model to next_words_gru.h5\n",
            "295/295 [==============================] - 4s 13ms/step - loss: 0.3282 - accuracy: 0.8974\n",
            "Epoch 40/40\n",
            "295/295 [==============================] - ETA: 0s - loss: 0.3132 - accuracy: 0.9003\n",
            "Epoch 40: loss improved from 0.32815 to 0.31321, saving model to next_words_gru.h5\n",
            "295/295 [==============================] - 4s 13ms/step - loss: 0.3132 - accuracy: 0.9003\n"
          ]
        },
        {
          "output_type": "execute_result",
          "data": {
            "text/plain": [
              "<keras.src.callbacks.History at 0x792dae4b0a90>"
            ]
          },
          "metadata": {},
          "execution_count": 19
        }
      ]
    },
    {
      "cell_type": "code",
      "source": [
        "# Bidirectional LSTM\n",
        "checkpoint = ModelCheckpoint(\"next_words_bi_lstm.h5\", monitor='loss', verbose=1, save_best_only=True)\n",
        "\n",
        "# Compile the Bidirectional LSTM model\n",
        "Bi_model.compile(loss=\"categorical_crossentropy\", optimizer=Adam(learning_rate=0.001), metrics=['accuracy'])\n",
        "\n",
        "# Train the Bidirectional LSTM model (replace X_train and y_train with your data)\n",
        "Bi_model.fit(X_train, y_train, epochs=40, batch_size=50, callbacks=[checkpoint])"
      ],
      "metadata": {
        "colab": {
          "base_uri": "https://localhost:8080/"
        },
        "id": "dK6gxsWZ-r6u",
        "outputId": "840d5101-d7e5-4f3e-f1c8-8ce180253e88"
      },
      "execution_count": 20,
      "outputs": [
        {
          "output_type": "stream",
          "name": "stdout",
          "text": [
            "Epoch 1/40\n",
            "295/295 [==============================] - ETA: 0s - loss: 6.7905 - accuracy: 0.0510\n",
            "Epoch 1: loss improved from inf to 6.79053, saving model to next_words_bi_lstm.h5\n",
            "295/295 [==============================] - 21s 44ms/step - loss: 6.7905 - accuracy: 0.0510\n",
            "Epoch 2/40\n",
            "295/295 [==============================] - ETA: 0s - loss: 6.3237 - accuracy: 0.0615\n",
            "Epoch 2: loss improved from 6.79053 to 6.32368, saving model to next_words_bi_lstm.h5\n",
            "295/295 [==============================] - 10s 33ms/step - loss: 6.3237 - accuracy: 0.0615\n",
            "Epoch 3/40\n",
            "294/295 [============================>.] - ETA: 0s - loss: 6.0236 - accuracy: 0.0694\n",
            "Epoch 3: loss improved from 6.32368 to 6.02352, saving model to next_words_bi_lstm.h5\n",
            "295/295 [==============================] - 10s 33ms/step - loss: 6.0235 - accuracy: 0.0693\n",
            "Epoch 4/40\n",
            "295/295 [==============================] - ETA: 0s - loss: 5.6883 - accuracy: 0.0820\n",
            "Epoch 4: loss improved from 6.02352 to 5.68833, saving model to next_words_bi_lstm.h5\n",
            "295/295 [==============================] - 10s 33ms/step - loss: 5.6883 - accuracy: 0.0820\n",
            "Epoch 5/40\n",
            "295/295 [==============================] - ETA: 0s - loss: 5.3162 - accuracy: 0.1030\n",
            "Epoch 5: loss improved from 5.68833 to 5.31619, saving model to next_words_bi_lstm.h5\n",
            "295/295 [==============================] - 10s 34ms/step - loss: 5.3162 - accuracy: 0.1030\n",
            "Epoch 6/40\n",
            "295/295 [==============================] - ETA: 0s - loss: 4.9336 - accuracy: 0.1298\n",
            "Epoch 6: loss improved from 5.31619 to 4.93360, saving model to next_words_bi_lstm.h5\n",
            "295/295 [==============================] - 10s 33ms/step - loss: 4.9336 - accuracy: 0.1298\n",
            "Epoch 7/40\n",
            "295/295 [==============================] - ETA: 0s - loss: 4.5384 - accuracy: 0.1574\n",
            "Epoch 7: loss improved from 4.93360 to 4.53843, saving model to next_words_bi_lstm.h5\n",
            "295/295 [==============================] - 14s 48ms/step - loss: 4.5384 - accuracy: 0.1574\n",
            "Epoch 8/40\n",
            "295/295 [==============================] - ETA: 0s - loss: 4.1633 - accuracy: 0.1856\n",
            "Epoch 8: loss improved from 4.53843 to 4.16329, saving model to next_words_bi_lstm.h5\n",
            "295/295 [==============================] - 10s 32ms/step - loss: 4.1633 - accuracy: 0.1856\n",
            "Epoch 9/40\n",
            "295/295 [==============================] - ETA: 0s - loss: 3.7736 - accuracy: 0.2217\n",
            "Epoch 9: loss improved from 4.16329 to 3.77364, saving model to next_words_bi_lstm.h5\n",
            "295/295 [==============================] - 11s 36ms/step - loss: 3.7736 - accuracy: 0.2217\n",
            "Epoch 10/40\n",
            "295/295 [==============================] - ETA: 0s - loss: 3.3905 - accuracy: 0.2594\n",
            "Epoch 10: loss improved from 3.77364 to 3.39048, saving model to next_words_bi_lstm.h5\n",
            "295/295 [==============================] - 10s 33ms/step - loss: 3.3905 - accuracy: 0.2594\n",
            "Epoch 11/40\n",
            "295/295 [==============================] - ETA: 0s - loss: 3.0044 - accuracy: 0.3108\n",
            "Epoch 11: loss improved from 3.39048 to 3.00444, saving model to next_words_bi_lstm.h5\n",
            "295/295 [==============================] - 10s 33ms/step - loss: 3.0044 - accuracy: 0.3108\n",
            "Epoch 12/40\n",
            "295/295 [==============================] - ETA: 0s - loss: 2.6483 - accuracy: 0.3699\n",
            "Epoch 12: loss improved from 3.00444 to 2.64831, saving model to next_words_bi_lstm.h5\n",
            "295/295 [==============================] - 10s 33ms/step - loss: 2.6483 - accuracy: 0.3699\n",
            "Epoch 13/40\n",
            "294/295 [============================>.] - ETA: 0s - loss: 2.3117 - accuracy: 0.4318\n",
            "Epoch 13: loss improved from 2.64831 to 2.31248, saving model to next_words_bi_lstm.h5\n",
            "295/295 [==============================] - 10s 33ms/step - loss: 2.3125 - accuracy: 0.4318\n",
            "Epoch 14/40\n",
            "295/295 [==============================] - ETA: 0s - loss: 1.9968 - accuracy: 0.4920\n",
            "Epoch 14: loss improved from 2.31248 to 1.99675, saving model to next_words_bi_lstm.h5\n",
            "295/295 [==============================] - 10s 33ms/step - loss: 1.9968 - accuracy: 0.4920\n",
            "Epoch 15/40\n",
            "295/295 [==============================] - ETA: 0s - loss: 1.7174 - accuracy: 0.5502\n",
            "Epoch 15: loss improved from 1.99675 to 1.71743, saving model to next_words_bi_lstm.h5\n",
            "295/295 [==============================] - 10s 33ms/step - loss: 1.7174 - accuracy: 0.5502\n",
            "Epoch 16/40\n",
            "294/295 [============================>.] - ETA: 0s - loss: 1.4691 - accuracy: 0.6033\n",
            "Epoch 16: loss improved from 1.71743 to 1.47110, saving model to next_words_bi_lstm.h5\n",
            "295/295 [==============================] - 14s 49ms/step - loss: 1.4711 - accuracy: 0.6028\n",
            "Epoch 17/40\n",
            "295/295 [==============================] - ETA: 0s - loss: 1.2545 - accuracy: 0.6563\n",
            "Epoch 17: loss improved from 1.47110 to 1.25455, saving model to next_words_bi_lstm.h5\n",
            "295/295 [==============================] - 10s 32ms/step - loss: 1.2545 - accuracy: 0.6563\n",
            "Epoch 18/40\n",
            "295/295 [==============================] - ETA: 0s - loss: 1.0864 - accuracy: 0.6984\n",
            "Epoch 18: loss improved from 1.25455 to 1.08637, saving model to next_words_bi_lstm.h5\n",
            "295/295 [==============================] - 10s 33ms/step - loss: 1.0864 - accuracy: 0.6984\n",
            "Epoch 19/40\n",
            "295/295 [==============================] - ETA: 0s - loss: 0.9178 - accuracy: 0.7458\n",
            "Epoch 19: loss improved from 1.08637 to 0.91777, saving model to next_words_bi_lstm.h5\n",
            "295/295 [==============================] - 10s 33ms/step - loss: 0.9178 - accuracy: 0.7458\n",
            "Epoch 20/40\n",
            "295/295 [==============================] - ETA: 0s - loss: 0.7959 - accuracy: 0.7767\n",
            "Epoch 20: loss improved from 0.91777 to 0.79589, saving model to next_words_bi_lstm.h5\n",
            "295/295 [==============================] - 10s 34ms/step - loss: 0.7959 - accuracy: 0.7767\n",
            "Epoch 21/40\n",
            "295/295 [==============================] - ETA: 0s - loss: 0.6818 - accuracy: 0.8063\n",
            "Epoch 21: loss improved from 0.79589 to 0.68184, saving model to next_words_bi_lstm.h5\n",
            "295/295 [==============================] - 10s 33ms/step - loss: 0.6818 - accuracy: 0.8063\n",
            "Epoch 22/40\n",
            "295/295 [==============================] - ETA: 0s - loss: 0.5932 - accuracy: 0.8316\n",
            "Epoch 22: loss improved from 0.68184 to 0.59319, saving model to next_words_bi_lstm.h5\n",
            "295/295 [==============================] - 10s 32ms/step - loss: 0.5932 - accuracy: 0.8316\n",
            "Epoch 23/40\n",
            "295/295 [==============================] - ETA: 0s - loss: 0.5351 - accuracy: 0.8489\n",
            "Epoch 23: loss improved from 0.59319 to 0.53513, saving model to next_words_bi_lstm.h5\n",
            "295/295 [==============================] - 10s 33ms/step - loss: 0.5351 - accuracy: 0.8489\n",
            "Epoch 24/40\n",
            "295/295 [==============================] - ETA: 0s - loss: 0.4933 - accuracy: 0.8625\n",
            "Epoch 24: loss improved from 0.53513 to 0.49330, saving model to next_words_bi_lstm.h5\n",
            "295/295 [==============================] - 10s 32ms/step - loss: 0.4933 - accuracy: 0.8625\n",
            "Epoch 25/40\n",
            "295/295 [==============================] - ETA: 0s - loss: 0.4465 - accuracy: 0.8718\n",
            "Epoch 25: loss improved from 0.49330 to 0.44650, saving model to next_words_bi_lstm.h5\n",
            "295/295 [==============================] - 10s 33ms/step - loss: 0.4465 - accuracy: 0.8718\n",
            "Epoch 26/40\n",
            "295/295 [==============================] - ETA: 0s - loss: 0.4178 - accuracy: 0.8806\n",
            "Epoch 26: loss improved from 0.44650 to 0.41781, saving model to next_words_bi_lstm.h5\n",
            "295/295 [==============================] - 10s 33ms/step - loss: 0.4178 - accuracy: 0.8806\n",
            "Epoch 27/40\n",
            "295/295 [==============================] - ETA: 0s - loss: 0.4037 - accuracy: 0.8850\n",
            "Epoch 27: loss improved from 0.41781 to 0.40371, saving model to next_words_bi_lstm.h5\n",
            "295/295 [==============================] - 10s 33ms/step - loss: 0.4037 - accuracy: 0.8850\n",
            "Epoch 28/40\n",
            "295/295 [==============================] - ETA: 0s - loss: 0.3809 - accuracy: 0.8898\n",
            "Epoch 28: loss improved from 0.40371 to 0.38091, saving model to next_words_bi_lstm.h5\n",
            "295/295 [==============================] - 10s 33ms/step - loss: 0.3809 - accuracy: 0.8898\n",
            "Epoch 29/40\n",
            "295/295 [==============================] - ETA: 0s - loss: 0.3729 - accuracy: 0.8912\n",
            "Epoch 29: loss improved from 0.38091 to 0.37291, saving model to next_words_bi_lstm.h5\n",
            "295/295 [==============================] - 10s 34ms/step - loss: 0.3729 - accuracy: 0.8912\n",
            "Epoch 30/40\n",
            "295/295 [==============================] - ETA: 0s - loss: 0.3479 - accuracy: 0.8997\n",
            "Epoch 30: loss improved from 0.37291 to 0.34792, saving model to next_words_bi_lstm.h5\n",
            "295/295 [==============================] - 10s 33ms/step - loss: 0.3479 - accuracy: 0.8997\n",
            "Epoch 31/40\n",
            "295/295 [==============================] - ETA: 0s - loss: 0.3376 - accuracy: 0.8995\n",
            "Epoch 31: loss improved from 0.34792 to 0.33759, saving model to next_words_bi_lstm.h5\n",
            "295/295 [==============================] - 10s 32ms/step - loss: 0.3376 - accuracy: 0.8995\n",
            "Epoch 32/40\n",
            "295/295 [==============================] - ETA: 0s - loss: 0.3319 - accuracy: 0.9000\n",
            "Epoch 32: loss improved from 0.33759 to 0.33194, saving model to next_words_bi_lstm.h5\n",
            "295/295 [==============================] - 10s 32ms/step - loss: 0.3319 - accuracy: 0.9000\n",
            "Epoch 33/40\n",
            "295/295 [==============================] - ETA: 0s - loss: 0.3112 - accuracy: 0.9078\n",
            "Epoch 33: loss improved from 0.33194 to 0.31123, saving model to next_words_bi_lstm.h5\n",
            "295/295 [==============================] - 10s 33ms/step - loss: 0.3112 - accuracy: 0.9078\n",
            "Epoch 34/40\n",
            "295/295 [==============================] - ETA: 0s - loss: 0.3083 - accuracy: 0.9033\n",
            "Epoch 34: loss improved from 0.31123 to 0.30826, saving model to next_words_bi_lstm.h5\n",
            "295/295 [==============================] - 10s 33ms/step - loss: 0.3083 - accuracy: 0.9033\n",
            "Epoch 35/40\n",
            "295/295 [==============================] - ETA: 0s - loss: 0.3052 - accuracy: 0.9075\n",
            "Epoch 35: loss improved from 0.30826 to 0.30525, saving model to next_words_bi_lstm.h5\n",
            "295/295 [==============================] - 10s 33ms/step - loss: 0.3052 - accuracy: 0.9075\n",
            "Epoch 36/40\n",
            "295/295 [==============================] - ETA: 0s - loss: 0.2988 - accuracy: 0.9063\n",
            "Epoch 36: loss improved from 0.30525 to 0.29876, saving model to next_words_bi_lstm.h5\n",
            "295/295 [==============================] - 10s 33ms/step - loss: 0.2988 - accuracy: 0.9063\n",
            "Epoch 37/40\n",
            "295/295 [==============================] - ETA: 0s - loss: 0.3121 - accuracy: 0.9002\n",
            "Epoch 37: loss did not improve from 0.29876\n",
            "295/295 [==============================] - 8s 28ms/step - loss: 0.3121 - accuracy: 0.9002\n",
            "Epoch 38/40\n",
            "295/295 [==============================] - ETA: 0s - loss: 0.3045 - accuracy: 0.9021\n",
            "Epoch 38: loss did not improve from 0.29876\n",
            "295/295 [==============================] - 8s 28ms/step - loss: 0.3045 - accuracy: 0.9021\n",
            "Epoch 39/40\n",
            "295/295 [==============================] - ETA: 0s - loss: 0.2778 - accuracy: 0.9086\n",
            "Epoch 39: loss improved from 0.29876 to 0.27783, saving model to next_words_bi_lstm.h5\n",
            "295/295 [==============================] - 14s 48ms/step - loss: 0.2778 - accuracy: 0.9086\n",
            "Epoch 40/40\n",
            "295/295 [==============================] - ETA: 0s - loss: 0.2713 - accuracy: 0.9102\n",
            "Epoch 40: loss improved from 0.27783 to 0.27126, saving model to next_words_bi_lstm.h5\n",
            "295/295 [==============================] - 10s 34ms/step - loss: 0.2713 - accuracy: 0.9102\n"
          ]
        },
        {
          "output_type": "execute_result",
          "data": {
            "text/plain": [
              "<keras.src.callbacks.History at 0x792d40653160>"
            ]
          },
          "metadata": {},
          "execution_count": 20
        }
      ]
    },
    {
      "cell_type": "code",
      "source": [
        "# Load the LSTM model from the checkpoint\n",
        "model = load_model(\"next_words.h5\")\n",
        "\n",
        "# Evaluate the LSTM model on the test data\n",
        "lstm_test_loss, lstm_test_accuracy = model.evaluate(X_test, y_test)\n",
        "\n",
        "# Print the test accuracy for the LSTM model\n",
        "print(\"LSTM Test Accuracy:\", lstm_test_accuracy)\n",
        "\n",
        "# Load the GRU model from the checkpoint\n",
        "gru_model = load_model(\"next_words_gru.h5\")\n",
        "\n",
        "# Evaluate the GRU model on the test data\n",
        "gru_test_loss, gru_test_accuracy = gru_model.evaluate(X_test, y_test)\n",
        "\n",
        "# Print the test accuracy for the GRU model\n",
        "print(\"GRU Test Accuracy:\", gru_test_accuracy)\n",
        "\n",
        "# Load the Bidirectional LSTM model from the checkpoint\n",
        "bi_model = load_model(\"next_words_bi_lstm.h5\")\n",
        "\n",
        "# Evaluate the Bidirectional LSTM model on the test data\n",
        "bi_test_loss, bi_test_accuracy = bi_model.evaluate(X_test, y_test)\n",
        "\n",
        "# Print the test accuracy for the Bidirectional LSTM model\n",
        "print(\"Bidirectional LSTM Test Accuracy:\", bi_test_accuracy)\n"
      ],
      "metadata": {
        "id": "5E9iFRX5kOyM",
        "colab": {
          "base_uri": "https://localhost:8080/"
        },
        "outputId": "726bf3b4-31cc-451d-9afd-1b4e1efa50b7"
      },
      "execution_count": 21,
      "outputs": [
        {
          "output_type": "stream",
          "name": "stdout",
          "text": [
            "82/82 [==============================] - 1s 8ms/step - loss: 20.0792 - accuracy: 0.1491\n",
            "LSTM Test Accuracy: 0.14911606907844543\n",
            "82/82 [==============================] - 1s 7ms/step - loss: 20.4097 - accuracy: 0.1580\n",
            "GRU Test Accuracy: 0.15795542299747467\n",
            "82/82 [==============================] - 3s 12ms/step - loss: 19.4414 - accuracy: 0.1729\n",
            "Bidirectional LSTM Test Accuracy: 0.17294389009475708\n"
          ]
        }
      ]
    },
    {
      "cell_type": "markdown",
      "source": [
        "### Step 8: Let’s predict"
      ],
      "metadata": {
        "id": "O8JR9Osrfqvz"
      }
    },
    {
      "cell_type": "code",
      "source": [
        "# Load the model and tokenizer\n",
        "model = load_model('next_words.h5')\n",
        "tokenizer = pickle.load(open('token.pkl', 'rb'))\n",
        "\n",
        "def Predict_Next_Words(model, tokenizer, text):\n",
        "\n",
        "  sequence = tokenizer.texts_to_sequences([text])\n",
        "  sequence = np.array(sequence)\n",
        "  preds = np.argmax(model.predict(sequence))\n",
        "  predicted_word = \"\"\n",
        "\n",
        "  for key, value in tokenizer.word_index.items():\n",
        "      if value == preds:\n",
        "          predicted_word = key\n",
        "          break\n",
        "\n",
        "  print(predicted_word)\n",
        "  return predicted_word"
      ],
      "metadata": {
        "id": "F7WSIYZRfmtm"
      },
      "execution_count": 22,
      "outputs": []
    },
    {
      "cell_type": "code",
      "source": [
        "while(True):\n",
        "  text = input(\"Enter your line: \")\n",
        "\n",
        "  if text == \"0\":\n",
        "      print(\"Execution completed.....\")\n",
        "      break\n",
        "\n",
        "  else:\n",
        "      try:\n",
        "          text = text.split(\" \")\n",
        "          text = text[-3:]\n",
        "          print(text)\n",
        "\n",
        "          Predict_Next_Words(model, tokenizer, text)\n",
        "\n",
        "      except Exception as e:\n",
        "        print(\"Error occurred: \",e)\n",
        "        continue"
      ],
      "metadata": {
        "colab": {
          "base_uri": "https://localhost:8080/"
        },
        "id": "TS3HJObUh-iS",
        "outputId": "13fa797b-a253-410c-e747-e5fb49319ae1"
      },
      "execution_count": 23,
      "outputs": [
        {
          "output_type": "stream",
          "name": "stdout",
          "text": [
            "Enter your line: i'm going to\n",
            "[\"i'm\", 'going', 'to']\n",
            "Error occurred:  in user code:\n",
            "\n",
            "    File \"/usr/local/lib/python3.10/dist-packages/keras/src/engine/training.py\", line 2341, in predict_function  *\n",
            "        return step_function(self, iterator)\n",
            "    File \"/usr/local/lib/python3.10/dist-packages/keras/src/engine/training.py\", line 2327, in step_function  **\n",
            "        outputs = model.distribute_strategy.run(run_step, args=(data,))\n",
            "    File \"/usr/local/lib/python3.10/dist-packages/keras/src/engine/training.py\", line 2315, in run_step  **\n",
            "        outputs = model.predict_step(data)\n",
            "    File \"/usr/local/lib/python3.10/dist-packages/keras/src/engine/training.py\", line 2283, in predict_step\n",
            "        return self(x, training=False)\n",
            "    File \"/usr/local/lib/python3.10/dist-packages/keras/src/utils/traceback_utils.py\", line 70, in error_handler\n",
            "        raise e.with_traceback(filtered_tb) from None\n",
            "    File \"/usr/local/lib/python3.10/dist-packages/keras/src/engine/input_spec.py\", line 298, in assert_input_compatibility\n",
            "        raise ValueError(\n",
            "\n",
            "    ValueError: Input 0 of layer \"sequential\" is incompatible with the layer: expected shape=(None, 3), found shape=(None, 2)\n",
            "\n",
            "Enter your line: going to\n",
            "['going', 'to']\n",
            "Error occurred:  in user code:\n",
            "\n",
            "    File \"/usr/local/lib/python3.10/dist-packages/keras/src/engine/training.py\", line 2341, in predict_function  *\n",
            "        return step_function(self, iterator)\n",
            "    File \"/usr/local/lib/python3.10/dist-packages/keras/src/engine/training.py\", line 2327, in step_function  **\n",
            "        outputs = model.distribute_strategy.run(run_step, args=(data,))\n",
            "    File \"/usr/local/lib/python3.10/dist-packages/keras/src/engine/training.py\", line 2315, in run_step  **\n",
            "        outputs = model.predict_step(data)\n",
            "    File \"/usr/local/lib/python3.10/dist-packages/keras/src/engine/training.py\", line 2283, in predict_step\n",
            "        return self(x, training=False)\n",
            "    File \"/usr/local/lib/python3.10/dist-packages/keras/src/utils/traceback_utils.py\", line 70, in error_handler\n",
            "        raise e.with_traceback(filtered_tb) from None\n",
            "    File \"/usr/local/lib/python3.10/dist-packages/keras/src/engine/input_spec.py\", line 298, in assert_input_compatibility\n",
            "        raise ValueError(\n",
            "\n",
            "    ValueError: Input 0 of layer \"sequential\" is incompatible with the layer: expected shape=(None, 3), found shape=(None, 2)\n",
            "\n",
            "Enter your line: almost no restrictions\n",
            "['almost', 'no', 'restrictions']\n",
            "1/1 [==============================] - 1s 628ms/step\n",
            "whatsoever\n",
            "Enter your line: Hundred Love Lyrics by Women\n",
            "['Lyrics', 'by', 'Women']\n",
            "1/1 [==============================] - 0s 19ms/step\n",
            "selected\n",
            "Enter your line: this is horrible\n",
            "['this', 'is', 'horrible']\n",
            "1/1 [==============================] - 1s 606ms/step\n",
            "my\n",
            "Enter your line: i want to go\n",
            "['want', 'to', 'go']\n",
            "1/1 [==============================] - 0s 20ms/step\n",
            "if\n",
            "Enter your line: this is so\n",
            "['this', 'is', 'so']\n",
            "1/1 [==============================] - 0s 22ms/step\n",
            "dear\n",
            "Enter your line: At the door\n",
            "['At', 'the', 'door']\n",
            "1/1 [==============================] - 0s 19ms/step\n",
            "oh\n",
            "Enter your line: Would you miss\n",
            "['Would', 'you', 'miss']\n",
            "1/1 [==============================] - 0s 21ms/step\n",
            "me\n",
            "Enter your line: Into joy or\n",
            "['Into', 'joy', 'or']\n",
            "1/1 [==============================] - 0s 21ms/step\n",
            "pain\n",
            "Enter your line: To dream my\n",
            "['To', 'dream', 'my']\n",
            "1/1 [==============================] - 0s 19ms/step\n",
            "faith\n",
            "Enter your line: When I of Love demand the least,     Thou biddest him to fire and feast:     When I am hungry and would eat,     There is no bread, though crusts were sweet.     If I with manna may be fed,     Shall I go all uncomforted?\n",
            "['go', 'all', 'uncomforted?']\n",
            "1/1 [==============================] - 0s 21ms/step\n",
            "and\n",
            "Enter your line: Bring back a\n",
            "['Bring', 'back', 'a']\n",
            "1/1 [==============================] - 0s 18ms/step\n",
            "pure\n",
            "Enter your line: I mind how good ye\n",
            "['how', 'good', 'ye']\n",
            "1/1 [==============================] - 0s 21ms/step\n",
            "were\n",
            "Enter your line: the green grass\n",
            "['the', 'green', 'grass']\n",
            "1/1 [==============================] - 0s 20ms/step\n",
            "and\n",
            "Enter your line: It seemed so\n",
            "['It', 'seemed', 'so']\n",
            "1/1 [==============================] - 0s 21ms/step\n",
            "website\n",
            "Enter your line: so far from\n",
            "['so', 'far', 'from']\n",
            "1/1 [==============================] - 0s 19ms/step\n",
            "mcchesney’s\n",
            "Enter your line: nearly any purpose such as\n",
            "['purpose', 'such', 'as']\n",
            "1/1 [==============================] - 0s 19ms/step\n",
            "creation\n",
            "Enter your line: 0\n",
            "Execution completed.....\n"
          ]
        }
      ]
    },
    {
      "cell_type": "code",
      "source": [],
      "metadata": {
        "id": "Jt6z2-esiEHf"
      },
      "execution_count": 23,
      "outputs": []
    }
  ]
}